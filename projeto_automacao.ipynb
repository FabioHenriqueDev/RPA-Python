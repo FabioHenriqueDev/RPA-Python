{
 "cells": [
  {
   "cell_type": "markdown",
   "id": "4f098695",
   "metadata": {},
   "source": [
    "## Desafio\n",
    "\n",
    "- Vamos automatizar a extração de informações de um sistema e envio de um relatório por e-mail.\n",
    "- No nosso caso, para todo mundo conseguir fazer o mesmo programa, o nosso \"sistema\" vai ser o Gmail, mas o mesmo processo pode ser feito com qualquer programa do seu computador e qualquer sistema:\n",
    "\n",
    "  - **Passo 1:** Entrar no sistema (entrar no Gmail)  \n",
    "  - **Passo 2:** Entrar em uma aba específica do sistema onde tem o nosso relatório (Aba Contatos)  \n",
    "  - **Passo 3:** Exportar o Relatório (Exportar Contatos)  \n",
    "  - **Passo 4:** Pegar o relatório exportado, tratar e pegar as informações que queremos  \n",
    "  - **Passo 5:** Enviar email para cada email dos dados que baixamos dos contatos \n"
   ]
  },
  {
   "cell_type": "code",
   "execution_count": 10,
   "id": "963ed3b6",
   "metadata": {},
   "outputs": [],
   "source": [
    "import pyautogui as py\n",
    "import time\n",
    "\n",
    "# pyautogui.write() -> escreve\n",
    "# pyautogui.clik -> clica\n",
    "# pyautogui.locateOnScreen -> identifica se tem uma imagem na sua tela \n",
    "# pyautogui.hotkey -> usa o atalho do teclado\n",
    "# pyautogui.press -> aperta um botão do teclado\n",
    "\n",
    "# Comandos da tela do teclado py.KEYBOARD_KEYS\n",
    "\n",
    "py.useImageNotFoundException(False)"
   ]
  },
  {
   "cell_type": "code",
   "execution_count": 11,
   "id": "a86c92d5",
   "metadata": {},
   "outputs": [],
   "source": [
    "py.PAUSE = 1.5 # cada comando espera 0.8 milisecundos\n",
    "\n",
    "py.alert(\"Ó código vai começar. NÃO mexa em nada enquanto o código estiver rodando, após a finalização você será avisado\")\n",
    "\n",
    "py.press(\"win\")\n",
    "py.write(\"Chrome\")\n",
    "py.press(\"enter\")\n",
    "\n",
    "x, y, largura, altura = py.locateOnScreen('img/image.png')\n",
    "py.click(x + largura/2, y + altura / 2)\n",
    "\n",
    "x, y, largura, altura = py.locateOnScreen('img/gmail.png')\n",
    "py.click(x + largura/2, y + altura / 2)\n",
    "\n",
    "while not py.locateOnScreen('img/logo_gmail.png'):\n",
    "    time.sleep(1)\n",
    "    \n",
    "py.click('img/image2.png')\n",
    "py.moveRel(0, 100, duration=0.5)\n",
    "py.scroll(-830)\n",
    "\n",
    "py.click(x=1731, y=562)\n",
    "\n",
    "while not py.locateOnScreen('img/contatos2.png'):\n",
    "    time.sleep(1)\n",
    "\n",
    "\n",
    "x, y, largura, altura = py.locateOnScreen('img/exportar.png')\n",
    "py.click(x + largura/2, y + altura / 2)\n",
    "\n",
    "x, y, largura, altura = py.locateOnScreen('img/confirmar_exportar.png')\n",
    "py.click(x + largura/2, y + altura / 2)\n",
    "\n"
   ]
  },
  {
   "cell_type": "markdown",
   "id": "ed8348ab",
   "metadata": {},
   "source": [
    "# Agora vamos exportar as informações e escrever o E-mail"
   ]
  },
  {
   "cell_type": "code",
   "execution_count": 12,
   "id": "a775c702",
   "metadata": {},
   "outputs": [
    {
     "data": {
      "text/html": [
       "<div>\n",
       "<style scoped>\n",
       "    .dataframe tbody tr th:only-of-type {\n",
       "        vertical-align: middle;\n",
       "    }\n",
       "\n",
       "    .dataframe tbody tr th {\n",
       "        vertical-align: top;\n",
       "    }\n",
       "\n",
       "    .dataframe thead th {\n",
       "        text-align: right;\n",
       "    }\n",
       "</style>\n",
       "<table border=\"1\" class=\"dataframe\">\n",
       "  <thead>\n",
       "    <tr style=\"text-align: right;\">\n",
       "      <th></th>\n",
       "      <th>First Name</th>\n",
       "      <th>Labels</th>\n",
       "      <th>E-mail 1 - Label</th>\n",
       "      <th>E-mail 1 - Value</th>\n",
       "    </tr>\n",
       "  </thead>\n",
       "  <tbody>\n",
       "    <tr>\n",
       "      <th>0</th>\n",
       "      <td>eu</td>\n",
       "      <td>* myContacts</td>\n",
       "      <td>*</td>\n",
       "      <td>algumemail@gmail.com</td>\n",
       "    </tr>\n",
       "    <tr>\n",
       "      <th>1</th>\n",
       "      <td>Fabio</td>\n",
       "      <td>* myContacts</td>\n",
       "      <td>*</td>\n",
       "      <td>algumemail2@gmail.com</td>\n",
       "    </tr>\n",
       "  </tbody>\n",
       "</table>\n",
       "</div>"
      ],
      "text/plain": [
       "  First Name        Labels E-mail 1 - Label       E-mail 1 - Value\n",
       "0         eu  * myContacts               *    algumemail@gmail.com\n",
       "1      Fabio  * myContacts               *   algumemail2@gmail.com"
      ]
     },
     "metadata": {},
     "output_type": "display_data"
    },
    {
     "name": "stdout",
     "output_type": "stream",
     "text": [
      "Email Enviado com Sucesso\n",
      "Email Enviado com Sucesso\n"
     ]
    },
    {
     "data": {
      "text/plain": [
       "'OK'"
      ]
     },
     "execution_count": 12,
     "metadata": {},
     "output_type": "execute_result"
    }
   ],
   "source": [
    "import pandas as pd\n",
    "from enviar_email import enviar_email\n",
    "\n",
    "\n",
    "\n",
    "df = pd.read_csv(r'c:\\Users\\PC\\Downloads\\contacts.csv')\n",
    "df = df.dropna(axis=1)\n",
    "display(df)\n",
    "\n",
    "py.hotkey(\"ctrl\", \"pgup\")\n",
    "\n",
    "for email in df[\"E-mail 1 - Value\"]:\n",
    "    if email == None:\n",
    "        continue\n",
    "    enviar_email(email)\n",
    "\n",
    "    \n",
    "py.alert(\"O código terminou.\")\n",
    "\n",
    "\n"
   ]
  }
 ],
 "metadata": {
  "kernelspec": {
   "display_name": "Python 3",
   "language": "python",
   "name": "python3"
  },
  "language_info": {
   "codemirror_mode": {
    "name": "ipython",
    "version": 3
   },
   "file_extension": ".py",
   "mimetype": "text/x-python",
   "name": "python",
   "nbconvert_exporter": "python",
   "pygments_lexer": "ipython3",
   "version": "3.11.0"
  }
 },
 "nbformat": 4,
 "nbformat_minor": 5
}
